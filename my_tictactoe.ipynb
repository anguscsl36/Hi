{
 "cells": [
  {
   "cell_type": "code",
   "execution_count": 1,
   "metadata": {},
   "outputs": [],
   "source": [
    "# print out the board\n",
    "\n",
    "board = ['none', ' ', ' ', ' ', ' ', ' ', ' ', ' ', ' ',' ']\n",
    "\n",
    "from IPython.display import clear_output\n",
    "\n",
    "def print_board(board):\n",
    "    clear_output()\n",
    "    print (board[7], '|', board[8], '|', board[9])\n",
    "    print (board[4], '|', board[5], '|', board[6])\n",
    "    print (board[1], '|', board[2], '|', board[3])\n"
   ]
  },
  {
   "cell_type": "code",
   "execution_count": 2,
   "metadata": {},
   "outputs": [],
   "source": [
    "#show location for first time\n",
    "\n",
    "location_board = ['0', '1', '2', '3', '4', '5', '6', '7', '8','9']\n",
    "\n",
    "def print_board_location():\n",
    "    print (location_board[7], '|', location_board[8], '|', location_board[9])\n",
    "    print (location_board[4], '|', location_board[5], '|', location_board[6])\n",
    "    print (location_board[1], '|', location_board[2], '|', location_board[3])"
   ]
  },
  {
   "cell_type": "code",
   "execution_count": 3,
   "metadata": {},
   "outputs": [],
   "source": [
    "# choose X or Y\n",
    "\n",
    "def input_player():\n",
    "    global player_1_choice\n",
    "    global player_2_choice\n",
    "  \n",
    "    player_1_choice = input('Please select X or O for player 1 : ')\n",
    "    \n",
    "    if player_1_choice == 'X' or player_1_choice == 'O':\n",
    "        print ('player 1 is {}'.format(player_1_choice))\n",
    "    else:\n",
    "        input_player()\n",
    "\n",
    "    if player_1_choice == 'X':\n",
    "        player_2_choice = 'O'\n",
    "    else:\n",
    "        player_2_choice = 'X'\n",
    "        \n",
    "        \n",
    "    print ('player 2 is {}'.format(player_2_choice) )"
   ]
  },
  {
   "cell_type": "code",
   "execution_count": 4,
   "metadata": {},
   "outputs": [],
   "source": [
    "def ready():\n",
    "    x = input('Are you ready?(Yes or No) : ')\n",
    "    if x != 'Yes':\n",
    "        ready()\n",
    "    else:\n",
    "        print('Lets get started!')"
   ]
  },
  {
   "cell_type": "code",
   "execution_count": 5,
   "metadata": {},
   "outputs": [],
   "source": [
    "#winning condition test\n",
    "\n",
    "def win_test():\n",
    "    # 8 winning condition location\n",
    "    a = board [1:4]\n",
    "    b = board[7::]\n",
    "    c = board [4:7]\n",
    "    d = board[1],board[5],board[9]\n",
    "    d = list(d)\n",
    "    e = board[3],board[5],board[7]\n",
    "    e = list(e)\n",
    "    f = board[1],board[4],board[7]\n",
    "    f = list(f)\n",
    "    g = board[2],board[5],board[8]\n",
    "    g = list(g)\n",
    "    h = board[3],board[6],board[9]\n",
    "    h = list(g)\n",
    "\n",
    "    #3X and 3O\n",
    "    XXX = ['X', 'X', 'X']\n",
    "    OOO = ['O', 'O', 'O']\n",
    "    \n",
    "    if ' ' not in board:\n",
    "        return 'Draw'    \n",
    "    elif a == XXX or a == OOO\\\n",
    "    or b == XXX or b == OOO\\\n",
    "    or c == XXX or c == OOO\\\n",
    "    or d == XXX or d == OOO\\\n",
    "    or e == XXX or e == OOO\\\n",
    "    or f == XXX or f == OOO\\\n",
    "    or g == XXX or g == OOO\\\n",
    "    or h == XXX or h == OOO:\n",
    "        return True\n",
    "    else:\n",
    "        return False\n",
    "\n"
   ]
  },
  {
   "cell_type": "code",
   "execution_count": 6,
   "metadata": {},
   "outputs": [],
   "source": [
    "#player moves\n",
    "\n",
    "def player_1_moves():\n",
    "    moves = int(input('Player 1 please select from 1 to 9 : '))\n",
    "    board[moves] = player_1_choice\n",
    "    print_board(board)\n",
    "    \n",
    "    if win_test() == 'Draw':\n",
    "        print ('Draw')\n",
    "    elif win_test() == False:\n",
    "        player_2_moves()\n",
    "    else:\n",
    "        print('Player 1 wins')\n",
    "    \n",
    "def player_2_moves():\n",
    "    moves = int(input('Player 2 please select from 1 to 9 : '))\n",
    "    board[moves] = player_2_choice\n",
    "    print_board(board)\n",
    "    \n",
    "    if win_test() == 'Draw':\n",
    "        print ('Draw')\n",
    "    elif win_test() == False:\n",
    "        player_1_moves()\n",
    "    else:\n",
    "        print('Player 2 wins')\n",
    "        "
   ]
  },
  {
   "cell_type": "code",
   "execution_count": 7,
   "metadata": {},
   "outputs": [
    {
     "name": "stdout",
     "output_type": "stream",
     "text": [
      "Welcome to the tic tac toe\n",
      "\n",
      "You can use number to choose location\n",
      "7 | 8 | 9\n",
      "4 | 5 | 6\n",
      "1 | 2 | 3\n",
      "\n"
     ]
    }
   ],
   "source": [
    "# Instruction\n",
    "\n",
    "print ('Welcome to the tic tac toe')\n",
    "print ()\n",
    "print('You can use number to choose location')\n",
    "print_board_location()\n",
    "print ()\n"
   ]
  },
  {
   "cell_type": "code",
   "execution_count": 8,
   "metadata": {},
   "outputs": [
    {
     "name": "stdout",
     "output_type": "stream",
     "text": [
      "O | X | X\n",
      "X | O | O\n",
      "X | O | X\n",
      "Draw\n"
     ]
    }
   ],
   "source": [
    "#start\n",
    "\n",
    "ready ()\n",
    "print ()\n",
    "input_player()\n",
    "print ()\n",
    "player_1_moves()"
   ]
  },
  {
   "cell_type": "code",
   "execution_count": null,
   "metadata": {},
   "outputs": [],
   "source": []
  },
  {
   "cell_type": "code",
   "execution_count": null,
   "metadata": {},
   "outputs": [],
   "source": []
  },
  {
   "cell_type": "code",
   "execution_count": null,
   "metadata": {},
   "outputs": [],
   "source": []
  }
 ],
 "metadata": {
  "kernelspec": {
   "display_name": "Python 3",
   "language": "python",
   "name": "python3"
  },
  "language_info": {
   "codemirror_mode": {
    "name": "ipython",
    "version": 3
   },
   "file_extension": ".py",
   "mimetype": "text/x-python",
   "name": "python",
   "nbconvert_exporter": "python",
   "pygments_lexer": "ipython3",
   "version": "3.7.6"
  }
 },
 "nbformat": 4,
 "nbformat_minor": 4
}
